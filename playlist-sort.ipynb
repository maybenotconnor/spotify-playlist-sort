{
 "cells": [
  {
   "cell_type": "markdown",
   "metadata": {},
   "source": [
    "# Playlist Sorting"
   ]
  },
  {
   "cell_type": "markdown",
   "metadata": {},
   "source": [
    "Log in:"
   ]
  },
  {
   "cell_type": "code",
   "execution_count": 20,
   "metadata": {},
   "outputs": [],
   "source": [
    "import spotipy\n",
    "from spotipy.oauth2 import SpotifyOAuth\n",
    "from dotenv import load_dotenv\n",
    "import os\n",
    "import numpy as np\n",
    "from sklearn.preprocessing import normalize\n",
    "import pandas as pd\n",
    "import scipy.cluster.hierarchy as shc\n",
    "import matplotlib.pyplot as plt\n",
    "\n",
    "# Use your own spotify dev data below!\n",
    "# set open_browser=False to prevent Spotipy from attempting to open the default browser, authenticate with credentials\n",
    "scope = 'user-library-read user-library-modify playlist-modify-public'\n",
    "\n",
    "#credentials loaded from .env\n",
    "load_dotenv('.env')\n",
    "client_id = os.environ.get(\"client_id\")\n",
    "client_secret = os.environ.get(\"client_secret\")\n",
    "redirect_uri = os.environ.get(\"redirect_uri\")\n",
    "usernamevar = os.environ.get(\"usernamevar\")\n",
    "\n",
    "sp = spotipy.Spotify(auth_manager=SpotifyOAuth(client_id=client_id,client_secret=client_secret,redirect_uri=redirect_uri,scope=scope))"
   ]
  },
  {
   "cell_type": "markdown",
   "metadata": {},
   "source": [
    "Define function:"
   ]
  },
  {
   "cell_type": "code",
   "execution_count": 21,
   "metadata": {},
   "outputs": [],
   "source": [
    "def getPlaylistID(playlist_name, username=usernamevar):\n",
    "    #Gets ID of playlist by name\n",
    "    playlist_id = 'error'\n",
    "    playlists = sp.user_playlists(username)\n",
    "    for playlist in playlists['items']:  # iterate through playlists user follows\n",
    "        if playlist['name'] == playlist_name:  # filter for newly created playlist\n",
    "            playlist_id = playlist['id']\n",
    "    print(\"Playlist ID found: \",playlist_id)\n",
    "    if playlist_id=='error':\n",
    "        raise\n",
    "    return playlist_id"
   ]
  },
  {
   "cell_type": "markdown",
   "metadata": {},
   "source": [
    "Select Playlist:"
   ]
  },
  {
   "cell_type": "code",
   "execution_count": 22,
   "metadata": {},
   "outputs": [
    {
     "name": "stdout",
     "output_type": "stream",
     "text": [
      "Playlist ID found:  3IIh2xaaIWfDMBdrd2rYjI\n"
     ]
    }
   ],
   "source": [
    "playlist_uri = getPlaylistID(\"Bot Sort Test\") #Enter playist name to sort"
   ]
  },
  {
   "cell_type": "markdown",
   "metadata": {},
   "source": [
    "Or set manually:"
   ]
  },
  {
   "cell_type": "code",
   "execution_count": 23,
   "metadata": {},
   "outputs": [],
   "source": [
    "#playlist_uri = '00000000000'"
   ]
  },
  {
   "cell_type": "markdown",
   "metadata": {},
   "source": [
    "Collect Data:"
   ]
  },
  {
   "cell_type": "code",
   "execution_count": 24,
   "metadata": {},
   "outputs": [],
   "source": [
    "error_count = 0\n",
    "song_data_input = []\n",
    "offsetvar = 0\n",
    "\n",
    "while offsetvar < 3000: #Max songs in playlist\n",
    "    for song in sp.playlist_tracks(playlist_uri,offset=offsetvar,limit=100)[\"items\"]:\n",
    "        try: #get data for song\n",
    "            song_features = sp.audio_features(song[\"track\"][\"id\"])\n",
    "        except: #in case of timeout\n",
    "            print(\"Error for track: \", song[\"track\"][\"name\"])\n",
    "            error_count += 1 \n",
    "            continue\n",
    "        song_data_input.append([song[\"track\"][\"uri\"],song_features[0][\"tempo\"],song_features[0][\"loudness\"],song_features[0][\"acousticness\"],song_features[0][\"danceability\"],song_features[0][\"energy\"],song_features[0][\"instrumentalness\"],song_features[0][\"valence\"]])\n",
    "        #print(\"Added track \",song[\"track\"][\"name\"],\" to list\")\n",
    "        #print(sp.artist(song[\"track\"][\"artists\"][0]['id'])['genres']) #Show Genres\n",
    "    offsetvar += 100\n",
    "#make numpy\n",
    "array_full = np.array(song_data_input)"
   ]
  },
  {
   "cell_type": "markdown",
   "metadata": {},
   "source": [
    "Visualize:"
   ]
  },
  {
   "cell_type": "code",
   "execution_count": 25,
   "metadata": {},
   "outputs": [
    {
     "data": {
      "text/html": [
       "<div>\n",
       "<style scoped>\n",
       "    .dataframe tbody tr th:only-of-type {\n",
       "        vertical-align: middle;\n",
       "    }\n",
       "\n",
       "    .dataframe tbody tr th {\n",
       "        vertical-align: top;\n",
       "    }\n",
       "\n",
       "    .dataframe thead th {\n",
       "        text-align: right;\n",
       "    }\n",
       "</style>\n",
       "<table border=\"1\" class=\"dataframe\">\n",
       "  <thead>\n",
       "    <tr style=\"text-align: right;\">\n",
       "      <th></th>\n",
       "      <th>tempo</th>\n",
       "      <th>loudness</th>\n",
       "      <th>acoustic</th>\n",
       "      <th>dance</th>\n",
       "      <th>energy</th>\n",
       "      <th>instrumental</th>\n",
       "      <th>valence</th>\n",
       "    </tr>\n",
       "  </thead>\n",
       "  <tbody>\n",
       "    <tr>\n",
       "      <th>0</th>\n",
       "      <td>0.024457</td>\n",
       "      <td>-0.015015</td>\n",
       "      <td>0.010100</td>\n",
       "      <td>0.021400</td>\n",
       "      <td>0.015838</td>\n",
       "      <td>0.000000e+00</td>\n",
       "      <td>0.024026</td>\n",
       "    </tr>\n",
       "    <tr>\n",
       "      <th>1</th>\n",
       "      <td>0.022361</td>\n",
       "      <td>-0.023123</td>\n",
       "      <td>0.031320</td>\n",
       "      <td>0.016381</td>\n",
       "      <td>0.004903</td>\n",
       "      <td>2.022626e-02</td>\n",
       "      <td>0.003540</td>\n",
       "    </tr>\n",
       "    <tr>\n",
       "      <th>2</th>\n",
       "      <td>0.017688</td>\n",
       "      <td>-0.015447</td>\n",
       "      <td>0.000400</td>\n",
       "      <td>0.020199</td>\n",
       "      <td>0.020823</td>\n",
       "      <td>5.042117e-06</td>\n",
       "      <td>0.018630</td>\n",
       "    </tr>\n",
       "    <tr>\n",
       "      <th>3</th>\n",
       "      <td>0.013573</td>\n",
       "      <td>-0.018002</td>\n",
       "      <td>0.007090</td>\n",
       "      <td>0.017212</td>\n",
       "      <td>0.014240</td>\n",
       "      <td>1.129781e-05</td>\n",
       "      <td>0.006943</td>\n",
       "    </tr>\n",
       "    <tr>\n",
       "      <th>4</th>\n",
       "      <td>0.022076</td>\n",
       "      <td>-0.008088</td>\n",
       "      <td>0.001816</td>\n",
       "      <td>0.021154</td>\n",
       "      <td>0.017077</td>\n",
       "      <td>3.684068e-05</td>\n",
       "      <td>0.018011</td>\n",
       "    </tr>\n",
       "    <tr>\n",
       "      <th>...</th>\n",
       "      <td>...</td>\n",
       "      <td>...</td>\n",
       "      <td>...</td>\n",
       "      <td>...</td>\n",
       "      <td>...</td>\n",
       "      <td>...</td>\n",
       "      <td>...</td>\n",
       "    </tr>\n",
       "    <tr>\n",
       "      <th>2835</th>\n",
       "      <td>0.013136</td>\n",
       "      <td>-0.033456</td>\n",
       "      <td>0.039736</td>\n",
       "      <td>0.022262</td>\n",
       "      <td>0.002234</td>\n",
       "      <td>0.000000e+00</td>\n",
       "      <td>0.012374</td>\n",
       "    </tr>\n",
       "    <tr>\n",
       "      <th>2836</th>\n",
       "      <td>0.017555</td>\n",
       "      <td>-0.020923</td>\n",
       "      <td>0.029432</td>\n",
       "      <td>0.020846</td>\n",
       "      <td>0.017022</td>\n",
       "      <td>1.907047e-07</td>\n",
       "      <td>0.028976</td>\n",
       "    </tr>\n",
       "    <tr>\n",
       "      <th>2837</th>\n",
       "      <td>0.024975</td>\n",
       "      <td>-0.022611</td>\n",
       "      <td>0.020914</td>\n",
       "      <td>0.019922</td>\n",
       "      <td>0.016030</td>\n",
       "      <td>2.788334e-07</td>\n",
       "      <td>0.031450</td>\n",
       "    </tr>\n",
       "    <tr>\n",
       "      <th>2838</th>\n",
       "      <td>0.010733</td>\n",
       "      <td>-0.021316</td>\n",
       "      <td>0.035707</td>\n",
       "      <td>0.019553</td>\n",
       "      <td>0.011073</td>\n",
       "      <td>0.000000e+00</td>\n",
       "      <td>0.021964</td>\n",
       "    </tr>\n",
       "    <tr>\n",
       "      <th>2839</th>\n",
       "      <td>0.027259</td>\n",
       "      <td>-0.032159</td>\n",
       "      <td>0.049632</td>\n",
       "      <td>0.018844</td>\n",
       "      <td>0.007657</td>\n",
       "      <td>0.000000e+00</td>\n",
       "      <td>0.024129</td>\n",
       "    </tr>\n",
       "  </tbody>\n",
       "</table>\n",
       "<p>2840 rows × 7 columns</p>\n",
       "</div>"
      ],
      "text/plain": [
       "         tempo  loudness  acoustic     dance    energy  instrumental   valence\n",
       "0     0.024457 -0.015015  0.010100  0.021400  0.015838  0.000000e+00  0.024026\n",
       "1     0.022361 -0.023123  0.031320  0.016381  0.004903  2.022626e-02  0.003540\n",
       "2     0.017688 -0.015447  0.000400  0.020199  0.020823  5.042117e-06  0.018630\n",
       "3     0.013573 -0.018002  0.007090  0.017212  0.014240  1.129781e-05  0.006943\n",
       "4     0.022076 -0.008088  0.001816  0.021154  0.017077  3.684068e-05  0.018011\n",
       "...        ...       ...       ...       ...       ...           ...       ...\n",
       "2835  0.013136 -0.033456  0.039736  0.022262  0.002234  0.000000e+00  0.012374\n",
       "2836  0.017555 -0.020923  0.029432  0.020846  0.017022  1.907047e-07  0.028976\n",
       "2837  0.024975 -0.022611  0.020914  0.019922  0.016030  2.788334e-07  0.031450\n",
       "2838  0.010733 -0.021316  0.035707  0.019553  0.011073  0.000000e+00  0.021964\n",
       "2839  0.027259 -0.032159  0.049632  0.018844  0.007657  0.000000e+00  0.024129\n",
       "\n",
       "[2840 rows x 7 columns]"
      ]
     },
     "execution_count": 25,
     "metadata": {},
     "output_type": "execute_result"
    }
   ],
   "source": [
    "pd.DataFrame(normalize(array_full[:,1:],axis=0),columns=['tempo','loudness','acoustic','dance','energy','instrumental','valence'])"
   ]
  },
  {
   "cell_type": "markdown",
   "metadata": {},
   "source": [
    "Attempt 2:"
   ]
  },
  {
   "cell_type": "code",
   "execution_count": 26,
   "metadata": {},
   "outputs": [
    {
     "data": {
      "image/png": "[encoded data removed]",
      "text/plain": [
       "<Figure size 1440x360 with 1 Axes>"
      ]
     },
     "metadata": {
      "needs_background": "light"
     },
     "output_type": "display_data"
    }
   ],
   "source": [
    "linkage = shc.linkage(normalize(array_full[:,1:],axis=0),method='complete',optimal_ordering=True,metric='seuclidean')\n",
    "#linkage = shc.linkage(normalize(array_full[:,1:],axis=0),method='ward',optimal_ordering=True) #ALTERNATE METHOD\n",
    "indexed = shc.leaves_list(linkage)\n",
    "plt.figure(figsize=(20, 5))\n",
    "dend = shc.dendrogram(linkage)"
   ]
  },
  {
   "cell_type": "markdown",
   "metadata": {},
   "source": [
    "Make new list:"
   ]
  },
  {
   "cell_type": "code",
   "execution_count": 27,
   "metadata": {},
   "outputs": [],
   "source": [
    "array_sorted = sorted(zip(indexed,array_full))"
   ]
  },
  {
   "cell_type": "code",
   "execution_count": 28,
   "metadata": {},
   "outputs": [],
   "source": [
    "tracks_sorted = [item[1][0] for item in array_sorted]\n",
    "tracks_unsorted = [item[0] for item in array_full]"
   ]
  },
  {
   "cell_type": "markdown",
   "metadata": {},
   "source": [
    "Replace playlist:"
   ]
  },
  {
   "cell_type": "code",
   "execution_count": 29,
   "metadata": {},
   "outputs": [],
   "source": [
    "for index,song in array_sorted:\n",
    "    sp.playlist_reorder_items(playlist_uri,range_start=tracks_unsorted.index(song[0]),insert_before=int(index))\n",
    "    tracks_unsorted.remove(song[0])\n",
    "    tracks_unsorted.insert(int(index),song[0])"
   ]
  },
  {
   "cell_type": "markdown",
   "metadata": {},
   "source": [
    "Verify lists:"
   ]
  },
  {
   "cell_type": "code",
   "execution_count": 32,
   "metadata": {},
   "outputs": [
    {
     "name": "stdout",
     "output_type": "stream",
     "text": [
      "['spotify:track:1D3wLZMFsFnoPXlS93DBHp', 'spotify:track:1XYUtOmrYOjSfeygulpLTA', 'spotify:track:48sc7vBJeNoCEQhxO3zYKA', 'spotify:track:5PdZuVQMXk0q6Cw0AuwPov', 'spotify:track:1lNpREl86qbYCmcf8KOxyq']\n",
      "['spotify:track:1D3wLZMFsFnoPXlS93DBHp', 'spotify:track:1XYUtOmrYOjSfeygulpLTA', 'spotify:track:48sc7vBJeNoCEQhxO3zYKA', 'spotify:track:5PdZuVQMXk0q6Cw0AuwPov', 'spotify:track:1lNpREl86qbYCmcf8KOxyq']\n",
      "['spotify:track:1D3wLZMFsFnoPXlS93DBHp', 'spotify:track:1XYUtOmrYOjSfeygulpLTA', 'spotify:track:48sc7vBJeNoCEQhxO3zYKA', 'spotify:track:5PdZuVQMXk0q6Cw0AuwPov', 'spotify:track:1lNpREl86qbYCmcf8KOxyq']\n"
     ]
    }
   ],
   "source": [
    "print(tracks_sorted[:5])\n",
    "print(tracks_unsorted[:5])\n",
    "print([song[\"track\"][\"uri\"] for song in sp.playlist_tracks(playlist_uri)[\"items\"]][:5])"
   ]
  }
 ],
 "metadata": {
  "interpreter": {
   "hash": "ac59ebe37160ed0dfa835113d9b8498d9f09ceb179beaac4002f036b9467c963"
  },
  "kernelspec": {
   "display_name": "Python 3.9.4 64-bit",
   "language": "python",
   "name": "python3"
  },
  "language_info": {
   "codemirror_mode": {
    "name": "ipython",
    "version": 3
   },
   "file_extension": ".py",
   "mimetype": "text/x-python",
   "name": "python",
   "nbconvert_exporter": "python",
   "pygments_lexer": "ipython3",
   "version": "3.9.4"
  },
  "orig_nbformat": 4
 },
 "nbformat": 4,
 "nbformat_minor": 2
}
